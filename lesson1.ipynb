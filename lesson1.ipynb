{
 "cells": [
  {
   "cell_type": "code",
   "execution_count": 15,
   "metadata": {},
   "outputs": [
    {
     "name": "stdout",
     "output_type": "stream",
     "text": [
      "The result is 10\n",
      "Hello, Sergei Riabov\n",
      "Sorry, the age wasn't a digit! Please, try to start this code again.\n"
     ]
    }
   ],
   "source": [
    "# Working with variables. Samples.\n",
    "# Create some variables and show it on the screen\n",
    "a = 5\n",
    "b = \"5\"\n",
    "\n",
    "print(f\"The result is {a+int(b)}\")\n",
    "\n",
    "# Ask the user about his name and surname and show the hello message\n",
    "name = input(\"What is your name: \") + \" \"\n",
    "surname = input(\"So, could you text me your surname, please: \")\n",
    "print(f\"Hello, {name}{surname}\")\n",
    "age = input(\"Could you text me your age? \")\n",
    "try:\n",
    "    age = int(age) + 13\n",
    "    print(f\"In 2035 your age will be {age+13}\")\n",
    "except:\n",
    "    print(\"Sorry, the age wasn't a digit! Please, try to start this code again.\")"
   ]
  },
  {
   "cell_type": "code",
   "execution_count": 20,
   "metadata": {},
   "outputs": [
    {
     "name": "stdout",
     "output_type": "stream",
     "text": [
      "It's not a number!!! I can't count it!\n"
     ]
    }
   ],
   "source": [
    "# The time converter - seconds to hour, minutes and seconds\n",
    "\n",
    "def time_converter(seconds):\n",
    "    try:\n",
    "        seconds = int(seconds)\n",
    "        time = {}\n",
    "        time[\"hours\"] = seconds // 3600\n",
    "        tail = seconds % 3600\n",
    "        time[\"minutes\"] = tail // 60\n",
    "        tail = tail % 60\n",
    "        time[\"seconds\"] = tail\n",
    "        return(f\"The time is: {time}\")\n",
    "    except:\n",
    "        return(\"It's not a number!!! I can't count it!\")\n",
    "\n",
    "seconds = input(\"Enter the count of seconds\")\n",
    "\n",
    "print(time_converter(seconds))"
   ]
  },
  {
   "cell_type": "code",
   "execution_count": 27,
   "metadata": {},
   "outputs": [
    {
     "name": "stdout",
     "output_type": "stream",
     "text": [
      "9\n"
     ]
    }
   ],
   "source": [
    "# Find the bigger digit\n",
    "def find_bigger_digit(digit):\n",
    "    # We have some solution of this task\n",
    "    list_of_digits = list(map(int, str(digit)))\n",
    "    list_of_digits.sort()\n",
    "    return list_of_digits[-1]\n",
    "\n",
    "digit = input('Enter the digit')\n",
    "# Check the input data\n",
    "try:\n",
    "    print(find_bigger_digit(int(digit)))\n",
    "except:\n",
    "    print(\"It was not a number!\")"
   ]
  },
  {
   "cell_type": "code",
   "execution_count": null,
   "metadata": {},
   "outputs": [],
   "source": [
    "# Income and expences\n",
    "try:\n",
    "    income = int(input(\"Enter the income of your company: $\"))\n",
    "    expenses = int(input(\"Enter the expences of your company: $\"))\n",
    "    \n",
    "    profability = income - expenses\n",
    "\n",
    "    if profability <= 0:\n",
    "        print(\"Oh... It isn't a busines, buddy... Useless waste of time and money :(\")\n",
    "    else:\n",
    "        print(f\"Your profit is ${profability}!\")\n",
    "        print(f\"You got \", income/expenses, \" as mach as you spent!\")\n",
    "\n",
    "except:\n",
    "    print(\"You entered incorrect data. Please, try again...\")"
   ]
  },
  {
   "cell_type": "code",
   "execution_count": 1,
   "metadata": {},
   "outputs": [
    {
     "name": "stdout",
     "output_type": "stream",
     "text": [
      "100\n",
      "10\n",
      "1 day is 10\n",
      "1 day is 11.0\n",
      "1 day is 12.1\n",
      "1 day is 13.309999999999999\n",
      "1 day is 14.640999999999998\n",
      "1 day is 16.105099999999997\n",
      "1 day is 17.715609999999998\n",
      "1 day is 19.487170999999996\n",
      "1 day is 21.435888099999996\n",
      "1 day is 23.579476909999997\n",
      "1 day is 25.937424600999996\n",
      "1 day is 28.531167061099996\n",
      "1 day is 31.384283767209997\n",
      "1 day is 34.522712143930995\n",
      "1 day is 37.974983358324096\n",
      "1 day is 41.772481694156504\n",
      "1 day is 45.94972986357215\n",
      "1 day is 50.544702849929365\n",
      "1 day is 55.5991731349223\n",
      "1 day is 61.15909044841453\n",
      "1 day is 67.27499949325599\n",
      "1 day is 74.0024994425816\n",
      "1 day is 81.40274938683976\n",
      "1 day is 89.54302432552373\n",
      "1 day is 98.4973267580761\n"
     ]
    }
   ],
   "source": [
    "class Sportsman:\n",
    "    def __init__(self):\n",
    "        self.miliage = 0\n",
    "        self.aim = 0\n",
    "        self.set_miliage()\n",
    "        self.set_aim()\n",
    "        self.day = 1\n",
    "    \n",
    "    def next_day(self):\n",
    "        self.miliage += self.miliage * .1\n",
    "\n",
    "    @property\n",
    "    def get_miliage(self):\n",
    "        return self.miliage\n",
    "    \n",
    "    def set_miliage(self):\n",
    "        try:\n",
    "            self.miliage = int(input(\"Enter the first miliage that has been reached: \"))\n",
    "        except:\n",
    "            print(\"This is not a digit! Try again, please!\")\n",
    "            self.__del__()\n",
    "    \n",
    "    def set_aim(self):\n",
    "        try:\n",
    "            self.aim = int(input(\"Input the miliage which our sportsman should reach: \"))\n",
    "        except:\n",
    "            print(\"Sorry. It's not a number and we think that sportsman achieved his/her goals!\")\n",
    "            self.__del__()\n",
    "\n",
    "    def inc_miliage(self):\n",
    "        self.miliage += self.miliage * .1\n",
    "        \n",
    "    def show_result(self):\n",
    "        print(f\"{self.day} day is {self.get_miliage}\")\n",
    "\n",
    "\n",
    "our_sportsmen = Sportsman()\n",
    "print(our_sportsmen.aim)\n",
    "print(our_sportsmen.miliage)\n",
    "day = 1\n",
    "\n",
    "our_sportsmen.show_result()\n",
    "\n",
    "while our_sportsmen.aim > our_sportsmen.miliage:\n",
    "    our_sportsmen.inc_miliage()\n",
    "    our_sportsmen.show_result()\n"
   ]
  }
 ],
 "metadata": {
  "interpreter": {
   "hash": "b0fa6594d8f4cbf19f97940f81e996739fb7646882a419484c72d19e05852a7e"
  },
  "kernelspec": {
   "display_name": "Python 3.9.12 64-bit",
   "language": "python",
   "name": "python3"
  },
  "language_info": {
   "codemirror_mode": {
    "name": "ipython",
    "version": 3
   },
   "file_extension": ".py",
   "mimetype": "text/x-python",
   "name": "python",
   "nbconvert_exporter": "python",
   "pygments_lexer": "ipython3",
   "version": "3.9.12"
  },
  "orig_nbformat": 4
 },
 "nbformat": 4,
 "nbformat_minor": 2
}
