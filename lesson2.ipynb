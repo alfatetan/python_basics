{
 "cells": [
  {
   "cell_type": "code",
   "execution_count": null,
   "metadata": {},
   "outputs": [],
   "source": [
    "# Task #1\n",
    "\n",
    "test_list = [1, 2, \"three\", \"four\", False, 6, hex(79987), \"eight\", 9, 10]\n",
    "for el in test_list:\n",
    "    print(el, \" is \", type(el), \"type\")"
   ]
  },
  {
   "cell_type": "code",
   "execution_count": null,
   "metadata": {},
   "outputs": [],
   "source": [
    "# Task #2\n",
    "\n",
    "test_string = input(\"Enter several values separating by the space\")\n",
    "test_list = test_string.split(' ')\n",
    "print(f\"Your entered:/n {test_list}\")\n",
    "\n",
    "list_len = len(test_list) if not(len(test_list)%2) else len(test_list) - 1\n",
    "\n",
    "for el in range(0, list_len, 2):\n",
    "    test_list[el], test_list[el+1] = test_list[el+1], test_list[el]\n",
    "\n",
    "print(test_list)"
   ]
  },
  {
   "cell_type": "code",
   "execution_count": null,
   "metadata": {},
   "outputs": [],
   "source": [
    "# Task #3\n",
    "\n",
    "part_of_year = {\n",
    "    \"Winter\" : [12, 1, 2],\n",
    "    \"Spring\" : [3, 4, 5],\n",
    "    \"Summer\" : [6, 7, 8],\n",
    "    \"Fall\" : [9, 10, 11]\n",
    "}\n",
    "\n",
    "month = int(input(\"Enter the month's number: \"))\n",
    "\n",
    "for key, value in part_of_year.items():\n",
    "    if value.count(month):\n",
    "        print(\"This is\", key)\n"
   ]
  },
  {
   "cell_type": "code",
   "execution_count": null,
   "metadata": {},
   "outputs": [],
   "source": [
    "# Task #4\n",
    "\n",
    "my_string = input(\"Enter the string: \")\n",
    "str_num = 1\n",
    "for el in my_string.split(' '):\n",
    "    print(str_num, el[0:10])\n",
    "    str_num += 1\n"
   ]
  },
  {
   "cell_type": "code",
   "execution_count": null,
   "metadata": {},
   "outputs": [],
   "source": [
    "# Task #5\n",
    "my_list = [7, 5, 3, 3, 2]\n",
    "\n",
    "number = int(input(\"Enter the number: \"))\n",
    "my_list.append(number)\n",
    "my_list.sort(reverse=True)\n",
    "\n",
    "print(my_list)"
   ]
  },
  {
   "cell_type": "code",
   "execution_count": 43,
   "metadata": {},
   "outputs": [
    {
     "name": "stdout",
     "output_type": "stream",
     "text": [
      "Collected data:\n",
      " {'name': ['laptop', 'laptop', 'printer', 'scanner', 'vr-glasses Oculus 2'], 'price': [20000, 20000, 6000, 2000, 300], 'quantity': [5, 5, 2, 7, 3], 'unit': ['ea.', 'ea.', 'ea.', 'ea.', 'ea.']}\n",
      "The unique values:\n",
      " {'name': ['laptop', 'vr-glasses Oculus 2', 'printer', 'scanner'], 'price': [20000, 6000, 300, 2000], 'quantity': [2, 3, 5, 7], 'unit': ['ea.']}\n"
     ]
    }
   ],
   "source": [
    "# Task #6\n",
    "list_received = [\n",
    "    (1, {\"name\": \"laptop\", \"price\": 20000, \"quantity\": 5, \"unit\": \"ea.\"}),\n",
    "    (2, {\"name\": \"printer\", \"price\": 6000, \"quantity\": 2, \"unit\": \"ea.\"}),\n",
    "    (3, {\"name\": \"scanner\", \"price\": 2000, \"quantity\": 7, \"unit\": \"ea.\"}),\n",
    "    (4, {\"name\": \"vr-glasses Oculus 2\", \"price\": 300, \"quantity\": 3, \"unit\": \"ea.\"},)\n",
    "]\n",
    "\n",
    "dict_out1 = {\n",
    "    \"name\": [],\n",
    "    \"price\": [],\n",
    "    \"quantity\": [],\n",
    "    \"unit\": [],\n",
    "}\n",
    "\n",
    "dict_out2 = dict_out1.copy()\n",
    "\n",
    "for el in list_received:\n",
    "    for key in el[1].keys():\n",
    "        #if we want to save all values in the dict we can use the code below:\n",
    "        dict_out1[key].append(el[1][key])\n",
    "        \n",
    "        #if we want to save the unique values only we can use the next code:\n",
    "        dict_out2[key].append(el[1][key])\n",
    "        dict_out2[key] = list(set(dict_out2[key]))\n",
    "\n",
    "    \n",
    "print(f\"Collected data:\\n\", dict_out1)\n",
    "print(f\"The unique values:\\n\",dict_out2)"
   ]
  }
 ],
 "metadata": {
  "interpreter": {
   "hash": "b0fa6594d8f4cbf19f97940f81e996739fb7646882a419484c72d19e05852a7e"
  },
  "kernelspec": {
   "display_name": "Python 3.9.12 64-bit",
   "language": "python",
   "name": "python3"
  },
  "language_info": {
   "codemirror_mode": {
    "name": "ipython",
    "version": 3
   },
   "file_extension": ".py",
   "mimetype": "text/x-python",
   "name": "python",
   "nbconvert_exporter": "python",
   "pygments_lexer": "ipython3",
   "version": "3.9.12"
  },
  "orig_nbformat": 4
 },
 "nbformat": 4,
 "nbformat_minor": 2
}
