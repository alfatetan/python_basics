{
 "cells": [
  {
   "cell_type": "code",
   "execution_count": null,
   "metadata": {},
   "outputs": [],
   "source": [
    "# Task #2\n",
    "from random import randint;\n",
    "\n",
    "# Create the list\n",
    "lst = [randint(0, 100) for el in range(0,20)]\n",
    "\n",
    "result = []\n",
    "for ind in range(1, len(lst)):\n",
    "    if lst[ind] > lst[ind-1]:\n",
    "        result.append(lst[ind])\n",
    "\n",
    "print(lst)\n",
    "print(result)"
   ]
  },
  {
   "cell_type": "code",
   "execution_count": null,
   "metadata": {},
   "outputs": [],
   "source": [
    "# Task #3\n",
    "# Find the multiple of 20 or 21 in the row from 20 to 240 in one line\n",
    "\n",
    "lst = list(set([x if not x%20 or not x%21 else 0 for x in range(20,240)]))\n",
    "print(lst)"
   ]
  },
  {
   "cell_type": "code",
   "execution_count": null,
   "metadata": {},
   "outputs": [],
   "source": [
    "# Task #4\n",
    "# Show the unique numbers in the list\n",
    "\n",
    "from random import randint\n",
    "\n",
    "lst = [randint(0, 20) for _ in range(0, 20)]\n",
    "unique_lst = [el for el in lst if not el in unique_lst]\n",
    "\n",
    "print(lst)\n",
    "print(unique_lst)"
   ]
  },
  {
   "cell_type": "code",
   "execution_count": null,
   "metadata": {},
   "outputs": [],
   "source": [
    "# Task #5\n",
    "\n",
    "from functools import reduce\n",
    "\n",
    "\n",
    "lst = list(set([x if not x%2 else 100 for x in range(100, 1001)]))\n",
    "print(reduce(lambda a,b: a*b, lst))"
   ]
  },
  {
   "cell_type": "code",
   "execution_count": null,
   "metadata": {},
   "outputs": [],
   "source": [
    "# Task #6 part 1\n",
    "from itertools import count\n",
    "\n",
    "start = 50\n",
    "cycles = 0\n",
    "\n",
    "for digit in count(start, 1):\n",
    "    cycles += 1\n",
    "    print(digit)\n",
    "    if cycles == 10:\n",
    "        br = input (\"Enter 'q' to quit:\")\n",
    "        if br == 'q':\n",
    "            break\n",
    "        else:\n",
    "            cycles = 1\n",
    "\n",
    "\n"
   ]
  },
  {
   "cell_type": "code",
   "execution_count": null,
   "metadata": {},
   "outputs": [],
   "source": [
    "# Task #6 part 2\n",
    "\n",
    "from itertools import cycle\n",
    "\n",
    "mycycle = input(\"Could you enter the string which we'll use as a list for infinity loop? :\")\n",
    "cycles = 1\n",
    "\n",
    "for el in cycle(mycycle):\n",
    "    cycles += 1\n",
    "    print(el, ' ', end='')\n",
    "    if cycles == 10:\n",
    "        br = input (\"Enter 'q' to quit\")\n",
    "        if br == 'q':\n",
    "            break\n",
    "        else:\n",
    "            cycles = 1\n",
    "\n"
   ]
  },
  {
   "cell_type": "code",
   "execution_count": null,
   "metadata": {},
   "outputs": [],
   "source": [
    "def fact(num):\n",
    "    result = 1\n",
    "    for i in range(1, num+1):\n",
    "        result *= i\n",
    "        yield result\n",
    "        \n",
    "\n",
    "factorial = 8\n",
    "\n",
    "factorial_lst = [el for el in fact(factorial)]\n",
    "\n",
    "print(factorial_lst)\n"
   ]
  }
 ],
 "metadata": {
  "interpreter": {
   "hash": "b0fa6594d8f4cbf19f97940f81e996739fb7646882a419484c72d19e05852a7e"
  },
  "kernelspec": {
   "display_name": "Python 3.9.12 64-bit",
   "language": "python",
   "name": "python3"
  },
  "language_info": {
   "codemirror_mode": {
    "name": "ipython",
    "version": 3
   },
   "file_extension": ".py",
   "mimetype": "text/x-python",
   "name": "python",
   "nbconvert_exporter": "python",
   "pygments_lexer": "ipython3",
   "version": "3.9.12"
  },
  "orig_nbformat": 4
 },
 "nbformat": 4,
 "nbformat_minor": 2
}
