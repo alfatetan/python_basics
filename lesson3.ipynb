{
 "cells": [
  {
   "cell_type": "code",
   "execution_count": null,
   "metadata": {},
   "outputs": [],
   "source": [
    "# Task #1\n",
    "\n",
    "def devision(a=0, b=0):\n",
    "    try:\n",
    "        return a/b\n",
    "    except ZeroDivisionError:\n",
    "        return \"You tried deviding by zero!\"\n",
    "\n",
    "\n",
    "print(devision(6, 2))"
   ]
  },
  {
   "cell_type": "code",
   "execution_count": null,
   "metadata": {},
   "outputs": [],
   "source": [
    "# Task #2\n",
    "def foo(name=\"\", surname=\"\", birth_year=1970, email=\"\", phone_number=\"\"):\n",
    "    return f\"{name} {surname} {birth_year} {email} {phone_number}\"\n",
    "\n",
    "print(foo(name=\"Sergei\", surname=\"Riabov\", birth_year=1982, email=\"spam@ryabov.online\", phone_number=\"+1323633****\"))"
   ]
  },
  {
   "cell_type": "code",
   "execution_count": null,
   "metadata": {},
   "outputs": [],
   "source": [
    "# Task #3\n",
    "my_func = lambda *args: max(args)\n",
    "\n",
    "print(my_func(1,2,3,4,5,6,7,8,9,0))"
   ]
  },
  {
   "cell_type": "code",
   "execution_count": null,
   "metadata": {},
   "outputs": [],
   "source": [
    "# Task #4\n",
    "\n",
    "def my_pow(a=0, b=0):\n",
    "    a, b, result = abs(a), abs(b), abs(a)\n",
    "    print(a, b)\n",
    "    for i in range(1, b):\n",
    "        result *= a\n",
    "    return result\n",
    "\n",
    "my_pow_short = lambda a=0, b=0: abs(a)**abs(b)\n",
    "\n",
    "print(my_pow(2, -3))\n",
    "print(my_pow_short(3, -3))"
   ]
  },
  {
   "cell_type": "code",
   "execution_count": null,
   "metadata": {},
   "outputs": [],
   "source": [
    "# Task #5\n",
    "# Enter the \"q\" letter to stop this program\n",
    "\n",
    "summary = 0\n",
    "\n",
    "while True:\n",
    "    list_numbers = input(\"Enter the numbers by spaces or q to quit.\")\n",
    "    list_numbers.split()\n",
    "    for el in list_numbers:\n",
    "        try:\n",
    "            summary += float(el)\n",
    "        except:\n",
    "            if el == 'q':\n",
    "                break\n",
    "            else:\n",
    "                continue\n",
    "\n",
    "    print(f\"The sum your numbers is: {summary}\")\n",
    "    \n",
    "    if \"q\" in list_numbers:\n",
    "        break\n",
    "\n",
    "    "
   ]
  },
  {
   "cell_type": "code",
   "execution_count": 70,
   "metadata": {},
   "outputs": [
    {
     "name": "stdout",
     "output_type": "stream",
     "text": [
      "Sdfasdf sadfaf asdfasdf\n",
      "Sdfasdf Sadfaf Asdfasdf\n"
     ]
    }
   ],
   "source": [
    "#Task #6 & #7\n",
    "\n",
    "my_func1 = lambda s=str() : s.capitalize()\n",
    "my_func2 = lambda s=str() : s.title()\n",
    "\n",
    "my_string = input(\"Enter the string, please: \")\n",
    "\n",
    "print(my_func1(my_string))\n",
    "print(my_func2(my_string))\n"
   ]
  }
 ],
 "metadata": {
  "interpreter": {
   "hash": "b0fa6594d8f4cbf19f97940f81e996739fb7646882a419484c72d19e05852a7e"
  },
  "kernelspec": {
   "display_name": "Python 3.9.12 64-bit",
   "language": "python",
   "name": "python3"
  },
  "language_info": {
   "codemirror_mode": {
    "name": "ipython",
    "version": 3
   },
   "file_extension": ".py",
   "mimetype": "text/x-python",
   "name": "python",
   "nbconvert_exporter": "python",
   "pygments_lexer": "ipython3",
   "version": "3.9.12"
  },
  "orig_nbformat": 4
 },
 "nbformat": 4,
 "nbformat_minor": 2
}
